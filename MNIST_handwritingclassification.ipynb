{
  "nbformat": 4,
  "nbformat_minor": 0,
  "metadata": {
    "colab": {
      "name": "MNIST-handwritingclassification.ipynb",
      "provenance": [],
      "authorship_tag": "ABX9TyOdOPIC+ahhIYnpCa9Kh/ds",
      "include_colab_link": true
    },
    "kernelspec": {
      "name": "python3",
      "display_name": "Python 3"
    },
    "language_info": {
      "name": "python"
    }
  },
  "cells": [
    {
      "cell_type": "markdown",
      "metadata": {
        "id": "view-in-github",
        "colab_type": "text"
      },
      "source": [
        "<a href=\"https://colab.research.google.com/github/TwistedMat/MNIST-handwritingclassification/blob/main/MNIST_handwritingclassification.ipynb\" target=\"_parent\"><img src=\"https://colab.research.google.com/assets/colab-badge.svg\" alt=\"Open In Colab\"/></a>"
      ]
    },
    {
      "cell_type": "markdown",
      "source": [
        "# **MNIST Handwriting Classification**\n",
        "\n",
        "Author: Eshan Mehrotra"
      ],
      "metadata": {
        "id": "u-Fd35Q7eQOk"
      }
    },
    {
      "cell_type": "code",
      "execution_count": null,
      "metadata": {
        "id": "Xs-7BNn7eJwb"
      },
      "outputs": [],
      "source": [
        ""
      ]
    }
  ]
}